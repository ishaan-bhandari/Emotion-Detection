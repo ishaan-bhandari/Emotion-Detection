{
  "nbformat": 4,
  "nbformat_minor": 0,
  "metadata": {
    "colab": {
      "provenance": []
    },
    "kernelspec": {
      "name": "python3",
      "display_name": "Python 3"
    },
    "accelerator": "GPU"
  },
  "cells": [
    {
      "cell_type": "markdown",
      "source": [],
      "metadata": {
        "id": "RVaUuUcnCu9Y"
      }
    },
    {
      "cell_type": "code",
      "metadata": {
        "id": "H1K_OUCXfPzH",
        "colab": {
          "base_uri": "https://localhost:8080/",
          "height": 68
        },
        "outputId": "95e75b2b-be7f-4544-b0ba-449e5b493189"
      },
      "source": [
        "#@title Run this to download the data and setup our environment\n",
        "\n",
        "import cv2\n",
        "import dlib\n",
        "import gdown\n",
        "import pickle\n",
        "import warnings\n",
        "\n",
        "import numpy as np\n",
        "import pandas as pd\n",
        "import seaborn as sns\n",
        "\n",
        "import urllib.request\n",
        "\n",
        "from sklearn import metrics\n",
        "\n",
        "\n",
        "from scipy.spatial import distance\n",
        "from matplotlib import pyplot as plt\n",
        "from sklearn.decomposition import PCA\n",
        "from sklearn.preprocessing import StandardScaler\n",
        "from sklearn.linear_model import LogisticRegression\n",
        "from sklearn.tree import DecisionTreeClassifier\n",
        "from sklearn.neighbors import KNeighborsClassifier\n",
        "from sklearn.model_selection import train_test_split\n",
        "\n",
        "warnings.filterwarnings(\"ignore\")\n",
        "\n",
        "###Getting the csv data loaded\n",
        "\n",
        "dataset_url = 'https://drive.google.com/uc?id=1xFiYsULlQWWmi2Ai0fHjtApniP5Pscuf'\n",
        "dataset_path = './ferdata.csv'\n",
        "gdown.download(dataset_url, dataset_path, True)\n",
        "\n",
        "###Getting the Dlib Shape predictor!\n",
        "\n",
        "\n",
        "\n",
        "###Getting the Xpure loaded\n",
        "\n",
        "pureX_url = 'https://drive.google.com/uc?id=1CglpXodenZVrkaZehLtfykfQv8dcnfO9'\n",
        "pureX_path = './pureX.npy'\n",
        "gdown.download(pureX_url, pureX_path,True)\n",
        "\n",
        "###Getting the Xdata loaded\n",
        "\n",
        "dataX_url = 'https://drive.google.com/uc?id=1sIJGxUM6rNBcWxucs6iynDepeKU1Q56p'\n",
        "dataX_path = './dataX.npy'\n",
        "gdown.download(dataX_url, dataX_path, True)\n",
        "\n",
        "\n",
        "###Getting the Ydata loaded\n",
        "\n",
        "dataY_url = 'https://drive.google.com/uc?id=1Rfr0OP-hZO_UZfuOyMNR2RjNRAro85zE'\n",
        "dataY_path = './dataY.npy'\n",
        "gdown.download(dataY_url, dataY_path, True)\n",
        "\n",
        "print (\"Data Downloaded!\")\n"
      ],
      "execution_count": null,
      "outputs": [
        {
          "output_type": "stream",
          "text": [
            "/usr/local/lib/python3.6/dist-packages/statsmodels/tools/_testing.py:19: FutureWarning: pandas.util.testing is deprecated. Use the functions in the public API at pandas.testing instead.\n",
            "  import pandas.util.testing as tm\n"
          ],
          "name": "stderr"
        },
        {
          "output_type": "stream",
          "text": [
            "Data Downloaded!\n"
          ],
          "name": "stdout"
        }
      ]
    },
    {
      "cell_type": "markdown",
      "metadata": {
        "id": "DtHdXOQqF_kA"
      },
      "source": [
        "#Milestone 1: Understanding Feature Generation Process"
      ]
    },
    {
      "cell_type": "markdown",
      "metadata": {
        "id": "KgB5l___P_Ja"
      },
      "source": [
        "## Instructor-led Discussion: Understanding the significance of Facial landmarks\n"
      ]
    },
    {
      "cell_type": "markdown",
      "metadata": {
        "id": "QPNqs8hKQjcN"
      },
      "source": [
        "Take a look at the images with facial landmarks superimposed over the faces!\n",
        "![Image 4](https://drive.google.com/uc?export=view&id=1UbK_vP1VelNr5V45okEy26nCoGoyUGH-)"
      ]
    },
    {
      "cell_type": "markdown",
      "metadata": {
        "id": "xLn2UT8XiF3X"
      },
      "source": [
        "###Exercise 1A(Discussion) | Est Time: | Within a student group"
      ]
    },
    {
      "cell_type": "markdown",
      "metadata": {
        "id": "9mQpj-xyqNJr"
      },
      "source": [
        "#### Comment on positions of Facial Landmarks(FL) based on different emotion images? Can we used euclidean distance to distinguish between emotions?"
      ]
    },
    {
      "cell_type": "markdown",
      "metadata": {
        "id": "Dqw7wKpPSCUR"
      },
      "source": [
        "##Distance between Facial Landmarks\n",
        "\n"
      ]
    },
    {
      "cell_type": "markdown",
      "metadata": {
        "id": "bNftU_43j2AZ"
      },
      "source": [
        "Based on our discussion, we can use the euclidean distances of all facial landmarks with each other and use it as input (X) to our model to predict our emotions (Y)"
      ]
    },
    {
      "cell_type": "markdown",
      "metadata": {
        "id": "VKiMk58TjzKc"
      },
      "source": [
        "###Exercise 1B (Discussion) | Est Time: | Within a student group"
      ]
    },
    {
      "cell_type": "code",
      "metadata": {
        "id": "ex66YDjYjuRN",
        "colab": {
          "base_uri": "https://localhost:8080/",
          "height": 51
        },
        "outputId": "00370432-9f31-4c5f-fc8f-96f3c0aca5dc"
      },
      "source": [
        "#@title Q1: Number of distance values after computing euclidean distances among facial landmarks? Q2: Number of distance values after computing euclidean distances (exclusive of distances of facial landmarks points with itself)? { display-mode: \"form\" }\n",
        "\n",
        "Q1 = \"4628\" #@param [\"2304\",\"4556\",\"4628\",\"68\",\"Fill Me In\"]\n",
        "\n",
        "Q2 = \"4556\" #@param [\"2304\",\"4556\",\"4628\",\"68\",\"Fill Me In\"]\n",
        "\n",
        "if Q1 == '4628':\n",
        "  print('Yes! 68 * 68 = 4628.')\n",
        "else:\n",
        "  print('Try Again')\n",
        "\n",
        "if Q2 == \"4556\":\n",
        "  print(\"Thats Right! If we exculde the distance of points with itself, we will have 4628 - 68 = 4556 distance values\")\n",
        "else:\n",
        "  print('Try again!')"
      ],
      "execution_count": null,
      "outputs": [
        {
          "output_type": "stream",
          "text": [
            "Yes! 68 * 68 = 4628.\n",
            "Thats Right! If we exculde the distance of points with itself, we will have 4628 - 68 = 4556 distance values\n"
          ],
          "name": "stdout"
        }
      ]
    },
    {
      "cell_type": "markdown",
      "metadata": {
        "id": "UiQPTFiMG-Ly"
      },
      "source": [
        "###Exercise Takeaways!\n",
        "\n"
      ]
    },
    {
      "cell_type": "markdown",
      "metadata": {
        "id": "xNRbQK8A25Zu"
      },
      "source": [
        "Facial landmark distances can be used as features (X) into a model where the outputs (Y) are emotions"
      ]
    },
    {
      "cell_type": "markdown",
      "metadata": {
        "id": "_TxlMtSqDMMw"
      },
      "source": [
        "## Instructor-led Discussion: Emotion Detection Pipeline"
      ]
    },
    {
      "cell_type": "markdown",
      "metadata": {
        "id": "yOrucHQ3mFQv"
      },
      "source": [
        "The three main components of Emotion Detection are as follows:\n",
        "\n",
        "\n",
        "1.   Image Preprocessing\n",
        "2.   Feature Extraction\n",
        "3.   Feature Classification\n",
        "\n"
      ]
    },
    {
      "cell_type": "markdown",
      "metadata": {
        "id": "YQgivc1AEOx8"
      },
      "source": [
        "![](https://drive.google.com/uc?export=view&id=13_IxWcKkliquOQXuW4-vyfbpMA3X0Xzx)"
      ]
    },
    {
      "cell_type": "markdown",
      "metadata": {
        "id": "MTquSms-HhMX"
      },
      "source": [
        "# Milestone 2: Understand,Visualize and Prepare the Data"
      ]
    },
    {
      "cell_type": "markdown",
      "metadata": {
        "id": "ml8XwGzOVvWX"
      },
      "source": [
        "### Dataset Background"
      ]
    },
    {
      "cell_type": "markdown",
      "metadata": {
        "id": "kPAqGjslU4T2"
      },
      "source": [
        "We will use modified version of the fer2013 dataset consisting of five emotion labels.\n",
        "\n",
        "The dataset is stored in a csvfile. Each row in the csvfile denotes an instance.\n",
        "Every instance has two column attributes :\n",
        "\n",
        "*   Pixels of the image stored in string format\n",
        "*   Integer encoding of the target label\n",
        "\n",
        "There are total of 20,000 images distributed equally across the five emotions. The images are 48\\*48 grayscale cropped images. The csvfile consists of flattened array of the image stored in form of a string\n",
        "\n",
        "The target labels are integer encoded in the csvfile.They are mapped as follows:\n",
        "\n",
        "*   0 ---> Angry\n",
        "*   1 ---> Happy\n",
        "*   2 ---> Sad\n",
        "*   3 ---> Surprise\n",
        "*   4 ---> Neutral\n",
        "\n"
      ]
    },
    {
      "cell_type": "markdown",
      "metadata": {
        "id": "kbQ9sErcYPil"
      },
      "source": [
        "### Load the dataset"
      ]
    },
    {
      "cell_type": "code",
      "metadata": {
        "id": "0bg16jaZu7vF",
        "colab": {
          "base_uri": "https://localhost:8080/",
          "height": 204
        },
        "outputId": "bc3ad7b9-e3f1-47ba-a407-c03cf0bdeb2b"
      },
      "source": [
        "#Load the datala\n",
        "df = pd.read_csv(\"./ferdata.csv\")\n",
        "df.head()"
      ],
      "execution_count": null,
      "outputs": [
        {
          "output_type": "execute_result",
          "data": {
            "text/html": [
              "<div>\n",
              "<style scoped>\n",
              "    .dataframe tbody tr th:only-of-type {\n",
              "        vertical-align: middle;\n",
              "    }\n",
              "\n",
              "    .dataframe tbody tr th {\n",
              "        vertical-align: top;\n",
              "    }\n",
              "\n",
              "    .dataframe thead th {\n",
              "        text-align: right;\n",
              "    }\n",
              "</style>\n",
              "<table border=\"1\" class=\"dataframe\">\n",
              "  <thead>\n",
              "    <tr style=\"text-align: right;\">\n",
              "      <th></th>\n",
              "      <th>emotion</th>\n",
              "      <th>pixels</th>\n",
              "      <th>Usage</th>\n",
              "    </tr>\n",
              "  </thead>\n",
              "  <tbody>\n",
              "    <tr>\n",
              "      <th>0</th>\n",
              "      <td>0</td>\n",
              "      <td>215 216 215 215 215 216 216 216 214 178 81 30 ...</td>\n",
              "      <td>Training</td>\n",
              "    </tr>\n",
              "    <tr>\n",
              "      <th>1</th>\n",
              "      <td>4</td>\n",
              "      <td>244 244 244 244 243 244 242 190 132 93 81 73 7...</td>\n",
              "      <td>Training</td>\n",
              "    </tr>\n",
              "    <tr>\n",
              "      <th>2</th>\n",
              "      <td>4</td>\n",
              "      <td>255 255 255 255 255 255 255 255 255 255 255 25...</td>\n",
              "      <td>Training</td>\n",
              "    </tr>\n",
              "    <tr>\n",
              "      <th>3</th>\n",
              "      <td>4</td>\n",
              "      <td>38 56 60 52 58 65 53 44 35 48 59 60 36 30 21 3...</td>\n",
              "      <td>Training</td>\n",
              "    </tr>\n",
              "    <tr>\n",
              "      <th>4</th>\n",
              "      <td>4</td>\n",
              "      <td>77 40 27 21 22 25 20 31 27 17 27 42 47 55 51 4...</td>\n",
              "      <td>Training</td>\n",
              "    </tr>\n",
              "  </tbody>\n",
              "</table>\n",
              "</div>"
            ],
            "text/plain": [
              "   emotion                                             pixels     Usage\n",
              "0        0  215 216 215 215 215 216 216 216 214 178 81 30 ...  Training\n",
              "1        4  244 244 244 244 243 244 242 190 132 93 81 73 7...  Training\n",
              "2        4  255 255 255 255 255 255 255 255 255 255 255 25...  Training\n",
              "3        4  38 56 60 52 58 65 53 44 35 48 59 60 36 30 21 3...  Training\n",
              "4        4  77 40 27 21 22 25 20 31 27 17 27 42 47 55 51 4...  Training"
            ]
          },
          "metadata": {
            "tags": []
          },
          "execution_count": 9
        }
      ]
    },
    {
      "cell_type": "code",
      "metadata": {
        "id": "eDkjje6WHuA7",
        "colab": {
          "base_uri": "https://localhost:8080/",
          "height": 34
        },
        "outputId": "ce3f8225-91c4-4654-edb6-3f01cdc1a0c4"
      },
      "source": [
        "len( df['pixels'][0] )"
      ],
      "execution_count": null,
      "outputs": [
        {
          "output_type": "execute_result",
          "data": {
            "text/plain": [
              "7990"
            ]
          },
          "metadata": {
            "tags": []
          },
          "execution_count": 10
        }
      ]
    },
    {
      "cell_type": "code",
      "metadata": {
        "id": "nL1lZWc8Hz7Q",
        "colab": {
          "base_uri": "https://localhost:8080/",
          "height": 34
        },
        "outputId": "53fea365-7d2d-4cb4-bfa4-a07ca5b6c970"
      },
      "source": [
        "type( df['pixels'][0] )"
      ],
      "execution_count": null,
      "outputs": [
        {
          "output_type": "execute_result",
          "data": {
            "text/plain": [
              "str"
            ]
          },
          "metadata": {
            "tags": []
          },
          "execution_count": 11
        }
      ]
    },
    {
      "cell_type": "code",
      "metadata": {
        "id": "6sgKU9XGAlFF",
        "colab": {
          "base_uri": "https://localhost:8080/",
          "height": 1000
        },
        "outputId": "e81617cb-ec77-4abb-a509-91f97df57257"
      },
      "source": [
        "\n",
        "[int(pixel) for pixel in (df['pixels'][0].split(' '))]"
      ],
      "execution_count": null,
      "outputs": [
        {
          "output_type": "execute_result",
          "data": {
            "text/plain": [
              "[215,\n",
              " 216,\n",
              " 215,\n",
              " 215,\n",
              " 215,\n",
              " 216,\n",
              " 216,\n",
              " 216,\n",
              " 214,\n",
              " 178,\n",
              " 81,\n",
              " 30,\n",
              " 32,\n",
              " 26,\n",
              " 25,\n",
              " 26,\n",
              " 28,\n",
              " 37,\n",
              " 40,\n",
              " 37,\n",
              " 38,\n",
              " 35,\n",
              " 43,\n",
              " 46,\n",
              " 57,\n",
              " 65,\n",
              " 72,\n",
              " 68,\n",
              " 68,\n",
              " 65,\n",
              " 66,\n",
              " 65,\n",
              " 60,\n",
              " 37,\n",
              " 32,\n",
              " 34,\n",
              " 38,\n",
              " 74,\n",
              " 175,\n",
              " 223,\n",
              " 219,\n",
              " 220,\n",
              " 220,\n",
              " 221,\n",
              " 221,\n",
              " 221,\n",
              " 222,\n",
              " 222,\n",
              " 215,\n",
              " 215,\n",
              " 215,\n",
              " 215,\n",
              " 216,\n",
              " 216,\n",
              " 215,\n",
              " 216,\n",
              " 206,\n",
              " 118,\n",
              " 38,\n",
              " 24,\n",
              " 26,\n",
              " 28,\n",
              " 27,\n",
              " 28,\n",
              " 27,\n",
              " 33,\n",
              " 31,\n",
              " 29,\n",
              " 37,\n",
              " 40,\n",
              " 45,\n",
              " 53,\n",
              " 69,\n",
              " 86,\n",
              " 88,\n",
              " 100,\n",
              " 105,\n",
              " 117,\n",
              " 99,\n",
              " 70,\n",
              " 62,\n",
              " 63,\n",
              " 52,\n",
              " 35,\n",
              " 37,\n",
              " 42,\n",
              " 78,\n",
              " 185,\n",
              " 224,\n",
              " 219,\n",
              " 220,\n",
              " 221,\n",
              " 221,\n",
              " 221,\n",
              " 222,\n",
              " 222,\n",
              " 215,\n",
              " 215,\n",
              " 215,\n",
              " 215,\n",
              " 215,\n",
              " 216,\n",
              " 215,\n",
              " 217,\n",
              " 168,\n",
              " 73,\n",
              " 33,\n",
              " 28,\n",
              " 28,\n",
              " 29,\n",
              " 33,\n",
              " 35,\n",
              " 35,\n",
              " 33,\n",
              " 33,\n",
              " 38,\n",
              " 48,\n",
              " 59,\n",
              " 74,\n",
              " 91,\n",
              " 99,\n",
              " 104,\n",
              " 105,\n",
              " 116,\n",
              " 141,\n",
              " 154,\n",
              " 129,\n",
              " 100,\n",
              " 76,\n",
              " 76,\n",
              " 68,\n",
              " 46,\n",
              " 35,\n",
              " 43,\n",
              " 38,\n",
              " 89,\n",
              " 200,\n",
              " 223,\n",
              " 219,\n",
              " 221,\n",
              " 221,\n",
              " 222,\n",
              " 223,\n",
              " 223,\n",
              " 216,\n",
              " 215,\n",
              " 215,\n",
              " 216,\n",
              " 216,\n",
              " 216,\n",
              " 214,\n",
              " 217,\n",
              " 130,\n",
              " 55,\n",
              " 55,\n",
              " 44,\n",
              " 39,\n",
              " 40,\n",
              " 39,\n",
              " 37,\n",
              " 36,\n",
              " 47,\n",
              " 67,\n",
              " 78,\n",
              " 93,\n",
              " 104,\n",
              " 111,\n",
              " 114,\n",
              " 112,\n",
              " 110,\n",
              " 113,\n",
              " 120,\n",
              " 125,\n",
              " 130,\n",
              " 129,\n",
              " 114,\n",
              " 98,\n",
              " 75,\n",
              " 68,\n",
              " 58,\n",
              " 46,\n",
              " 42,\n",
              " 49,\n",
              " 36,\n",
              " 123,\n",
              " 224,\n",
              " 217,\n",
              " 218,\n",
              " 219,\n",
              " 219,\n",
              " 219,\n",
              " 219,\n",
              " 213,\n",
              " 214,\n",
              " 214,\n",
              " 213,\n",
              " 213,\n",
              " 213,\n",
              " 215,\n",
              " 197,\n",
              " 100,\n",
              " 86,\n",
              " 85,\n",
              " 87,\n",
              " 84,\n",
              " 61,\n",
              " 54,\n",
              " 61,\n",
              " 79,\n",
              " 104,\n",
              " 121,\n",
              " 123,\n",
              " 121,\n",
              " 122,\n",
              " 119,\n",
              " 116,\n",
              " 116,\n",
              " 115,\n",
              " 116,\n",
              " 119,\n",
              " 120,\n",
              " 122,\n",
              " 118,\n",
              " 109,\n",
              " 98,\n",
              " 87,\n",
              " 65,\n",
              " 54,\n",
              " 55,\n",
              " 48,\n",
              " 50,\n",
              " 46,\n",
              " 69,\n",
              " 174,\n",
              " 205,\n",
              " 198,\n",
              " 199,\n",
              " 199,\n",
              " 198,\n",
              " 197,\n",
              " 194,\n",
              " 193,\n",
              " 193,\n",
              " 192,\n",
              " 191,\n",
              " 189,\n",
              " 195,\n",
              " 131,\n",
              " 96,\n",
              " 116,\n",
              " 113,\n",
              " 116,\n",
              " 115,\n",
              " 108,\n",
              " 109,\n",
              " 116,\n",
              " 124,\n",
              " 128,\n",
              " 127,\n",
              " 125,\n",
              " 124,\n",
              " 123,\n",
              " 122,\n",
              " 121,\n",
              " 120,\n",
              " 118,\n",
              " 117,\n",
              " 119,\n",
              " 119,\n",
              " 117,\n",
              " 111,\n",
              " 97,\n",
              " 91,\n",
              " 92,\n",
              " 79,\n",
              " 49,\n",
              " 53,\n",
              " 45,\n",
              " 45,\n",
              " 52,\n",
              " 49,\n",
              " 120,\n",
              " 165,\n",
              " 159,\n",
              " 160,\n",
              " 159,\n",
              " 158,\n",
              " 158,\n",
              " 157,\n",
              " 156,\n",
              " 155,\n",
              " 152,\n",
              " 152,\n",
              " 154,\n",
              " 140,\n",
              " 90,\n",
              " 117,\n",
              " 115,\n",
              " 119,\n",
              " 129,\n",
              " 125,\n",
              " 124,\n",
              " 128,\n",
              " 131,\n",
              " 131,\n",
              " 131,\n",
              " 130,\n",
              " 131,\n",
              " 132,\n",
              " 131,\n",
              " 130,\n",
              " 128,\n",
              " 125,\n",
              " 122,\n",
              " 120,\n",
              " 118,\n",
              " 118,\n",
              " 114,\n",
              " 104,\n",
              " 92,\n",
              " 89,\n",
              " 84,\n",
              " 78,\n",
              " 55,\n",
              " 45,\n",
              " 39,\n",
              " 41,\n",
              " 43,\n",
              " 51,\n",
              " 85,\n",
              " 123,\n",
              " 121,\n",
              " 122,\n",
              " 122,\n",
              " 120,\n",
              " 120,\n",
              " 131,\n",
              " 130,\n",
              " 129,\n",
              " 126,\n",
              " 124,\n",
              " 131,\n",
              " 94,\n",
              " 91,\n",
              " 116,\n",
              " 110,\n",
              " 120,\n",
              " 128,\n",
              " 125,\n",
              " 128,\n",
              " 132,\n",
              " 133,\n",
              " 133,\n",
              " 135,\n",
              " 135,\n",
              " 135,\n",
              " 136,\n",
              " 137,\n",
              " 136,\n",
              " 133,\n",
              " 130,\n",
              " 126,\n",
              " 122,\n",
              " 120,\n",
              " 118,\n",
              " 110,\n",
              " 98,\n",
              " 86,\n",
              " 84,\n",
              " 79,\n",
              " 63,\n",
              " 50,\n",
              " 45,\n",
              " 36,\n",
              " 39,\n",
              " 40,\n",
              " 45,\n",
              " 69,\n",
              " 94,\n",
              " 93,\n",
              " 93,\n",
              " 93,\n",
              " 93,\n",
              " 93,\n",
              " 131,\n",
              " 129,\n",
              " 128,\n",
              " 128,\n",
              " 126,\n",
              " 128,\n",
              " 89,\n",
              " 104,\n",
              " 108,\n",
              " 110,\n",
              " 117,\n",
              " 123,\n",
              " 127,\n",
              " 131,\n",
              " 134,\n",
              " 133,\n",
              " 134,\n",
              " 135,\n",
              " 135,\n",
              " 136,\n",
              " 138,\n",
              " 137,\n",
              " 135,\n",
              " 132,\n",
              " 129,\n",
              " 128,\n",
              " 124,\n",
              " 121,\n",
              " 118,\n",
              " 108,\n",
              " 97,\n",
              " 86,\n",
              " 79,\n",
              " 67,\n",
              " 65,\n",
              " 50,\n",
              " 37,\n",
              " 33,\n",
              " 36,\n",
              " 38,\n",
              " 40,\n",
              " 57,\n",
              " 87,\n",
              " 98,\n",
              " 96,\n",
              " 96,\n",
              " 96,\n",
              " 95,\n",
              " 139,\n",
              " 137,\n",
              " 137,\n",
              " 135,\n",
              " 136,\n",
              " 127,\n",
              " 81,\n",
              " 104,\n",
              " 106,\n",
              " 111,\n",
              " 117,\n",
              " 123,\n",
              " 128,\n",
              " 131,\n",
              " 134,\n",
              " 136,\n",
              " 137,\n",
              " 137,\n",
              " 137,\n",
              " 138,\n",
              " 136,\n",
              " 134,\n",
              " 133,\n",
              " 130,\n",
              " 127,\n",
              " 124,\n",
              " 122,\n",
              " 121,\n",
              " 116,\n",
              " 104,\n",
              " 93,\n",
              " 90,\n",
              " 76,\n",
              " 59,\n",
              " 52,\n",
              " 53,\n",
              " 44,\n",
              " 37,\n",
              " 33,\n",
              " 38,\n",
              " 43,\n",
              " 53,\n",
              " 83,\n",
              " 98,\n",
              " 96,\n",
              " 96,\n",
              " 95,\n",
              " 95,\n",
              " 137,\n",
              " 137,\n",
              " 136,\n",
              " 135,\n",
              " 137,\n",
              " 118,\n",
              " 77,\n",
              " 102,\n",
              " 108,\n",
              " 111,\n",
              " 114,\n",
              " 121,\n",
              " 125,\n",
              " 130,\n",
              " 133,\n",
              " 135,\n",
              " 138,\n",
              " 142,\n",
              " 138,\n",
              " 132,\n",
              " 132,\n",
              " 131,\n",
              " 131,\n",
              " 127,\n",
              " 125,\n",
              " 123,\n",
              " 118,\n",
              " 119,\n",
              " 115,\n",
              " 102,\n",
              " 93,\n",
              " 91,\n",
              " 76,\n",
              " 68,\n",
              " 56,\n",
              " 44,\n",
              " 42,\n",
              " 40,\n",
              " 37,\n",
              " 30,\n",
              " 33,\n",
              " 52,\n",
              " 77,\n",
              " 99,\n",
              " 95,\n",
              " 95,\n",
              " 95,\n",
              " 96,\n",
              " 140,\n",
              " 138,\n",
              " 137,\n",
              " 136,\n",
              " 139,\n",
              " 99,\n",
              " 66,\n",
              " 103,\n",
              " 106,\n",
              " 110,\n",
              " 115,\n",
              " 123,\n",
              " 126,\n",
              " 129,\n",
              " 132,\n",
              " 134,\n",
              " 138,\n",
              " 140,\n",
              " 132,\n",
              " 130,\n",
              " 132,\n",
              " 132,\n",
              " 131,\n",
              " 128,\n",
              " 125,\n",
              " 117,\n",
              " 114,\n",
              " 112,\n",
              " 108,\n",
              " 98,\n",
              " 92,\n",
              " 85,\n",
              " 78,\n",
              " 63,\n",
              " 57,\n",
              " 40,\n",
              " 39,\n",
              " 43,\n",
              " 38,\n",
              " 34,\n",
              " 32,\n",
              " 40,\n",
              " 65,\n",
              " 98,\n",
              " 96,\n",
              " 96,\n",
              " 95,\n",
              " 96,\n",
              " 142,\n",
              " 139,\n",
              " 138,\n",
              " 135,\n",
              " 140,\n",
              " 94,\n",
              " 63,\n",
              " 100,\n",
              " 103,\n",
              " 109,\n",
              " 119,\n",
              " 124,\n",
              " 130,\n",
              " 131,\n",
              " 133,\n",
              " 135,\n",
              " 136,\n",
              " 136,\n",
              " 135,\n",
              " 141,\n",
              " 141,\n",
              " 144,\n",
              " 143,\n",
              " 134,\n",
              " 128,\n",
              " 124,\n",
              " 114,\n",
              " 106,\n",
              " 101,\n",
              " 95,\n",
              " 92,\n",
              " 87,\n",
              " 84,\n",
              " 68,\n",
              " 52,\n",
              " 44,\n",
              " 42,\n",
              " 43,\n",
              " 39,\n",
              " 31,\n",
              " 31,\n",
              " 37,\n",
              " 68,\n",
              " 99,\n",
              " 98,\n",
              " 97,\n",
              " 96,\n",
              " 96,\n",
              " 143,\n",
              " 140,\n",
              " 138,\n",
              " 136,\n",
              " 141,\n",
              " 97,\n",
              " 62,\n",
              " 96,\n",
              " 97,\n",
              " 108,\n",
              " 121,\n",
              " 126,\n",
              " 132,\n",
              " 139,\n",
              " 147,\n",
              " 142,\n",
              " 139,\n",
              " 144,\n",
              " 149,\n",
              " 152,\n",
              " 150,\n",
              " 140,\n",
              " 116,\n",
              " 103,\n",
              " 90,\n",
              " 88,\n",
              " 83,\n",
              " 89,\n",
              " 91,\n",
              " 89,\n",
              " 95,\n",
              " 94,\n",
              " 87,\n",
              " 75,\n",
              " 64,\n",
              " 51,\n",
              " 43,\n",
              " 42,\n",
              " 40,\n",
              " 28,\n",
              " 26,\n",
              " 30,\n",
              " 60,\n",
              " 98,\n",
              " 98,\n",
              " 98,\n",
              " 97,\n",
              " 95,\n",
              " 145,\n",
              " 142,\n",
              " 140,\n",
              " 137,\n",
              " 142,\n",
              " 90,\n",
              " 61,\n",
              " 88,\n",
              " 99,\n",
              " 118,\n",
              " 123,\n",
              " 131,\n",
              " 136,\n",
              " 149,\n",
              " 153,\n",
              " 148,\n",
              " 149,\n",
              " 146,\n",
              " 140,\n",
              " 104,\n",
              " 103,\n",
              " 80,\n",
              " 50,\n",
              " 52,\n",
              " 57,\n",
              " 54,\n",
              " 55,\n",
              " 58,\n",
              " 66,\n",
              " 61,\n",
              " 70,\n",
              " 76,\n",
              " 81,\n",
              " 85,\n",
              " 84,\n",
              " 57,\n",
              " 45,\n",
              " 42,\n",
              " 45,\n",
              " 37,\n",
              " 32,\n",
              " 35,\n",
              " 51,\n",
              " 97,\n",
              " 98,\n",
              " 98,\n",
              " 98,\n",
              " 96,\n",
              " 145,\n",
              " 143,\n",
              " 141,\n",
              " 138,\n",
              " 142,\n",
              " 97,\n",
              " 65,\n",
              " 91,\n",
              " 99,\n",
              " 102,\n",
              " 96,\n",
              " 89,\n",
              " 96,\n",
              " 111,\n",
              " 101,\n",
              " 127,\n",
              " 140,\n",
              " 139,\n",
              " 100,\n",
              " 58,\n",
              " 59,\n",
              " 46,\n",
              " 36,\n",
              " 42,\n",
              " 59,\n",
              " 76,\n",
              " 90,\n",
              " 84,\n",
              " 71,\n",
              " 45,\n",
              " 39,\n",
              " 55,\n",
              " 56,\n",
              " 63,\n",
              " 70,\n",
              " 61,\n",
              " 43,\n",
              " 45,\n",
              " 44,\n",
              " 44,\n",
              " 37,\n",
              " 29,\n",
              " 49,\n",
              " 98,\n",
              " 99,\n",
              " 98,\n",
              " 98,\n",
              " 96,\n",
              " 146,\n",
              " 143,\n",
              " 141,\n",
              " 139,\n",
              " 140,\n",
              " 116,\n",
              " 74,\n",
              " 87,\n",
              " 75,\n",
              " 55,\n",
              " 53,\n",
              " 44,\n",
              " 49,\n",
              " 64,\n",
              " 63,\n",
              " 88,\n",
              " 94,\n",
              " 85,\n",
              " 61,\n",
              " 46,\n",
              " 47,\n",
              " 35,\n",
              " 26,\n",
              " 36,\n",
              " 63,\n",
              " 81,\n",
              " 89,\n",
              " 92,\n",
              " 93,\n",
              " 84,\n",
              " 66,\n",
              " 75,\n",
              " 85,\n",
              " 83,\n",
              " 77,\n",
              " 56,\n",
              " 38,\n",
              " 37,\n",
              " 32,\n",
              " 34,\n",
              " 35,\n",
              " 21,\n",
              " 38,\n",
              " 97,\n",
              " 99,\n",
              " 98,\n",
              " 98,\n",
              " 96,\n",
              " 145,\n",
              " 144,\n",
              " 141,\n",
              " 139,\n",
              " 146,\n",
              " 139,\n",
              " 79,\n",
              " 70,\n",
              " 78,\n",
              " 60,\n",
              " 49,\n",
              " 30,\n",
              " 32,\n",
              " 41,\n",
              " 53,\n",
              " 45,\n",
              " 36,\n",
              " 70,\n",
              " 70,\n",
              " 52,\n",
              " 41,\n",
              " 30,\n",
              " 32,\n",
              " 33,\n",
              " 46,\n",
              " 56,\n",
              " 52,\n",
              " 52,\n",
              " 56,\n",
              " 68,\n",
              " 62,\n",
              " 58,\n",
              " 67,\n",
              " 80,\n",
              " 84,\n",
              " 76,\n",
              " 49,\n",
              " 39,\n",
              " 29,\n",
              " 18,\n",
              " 13,\n",
              " 47,\n",
              " 111,\n",
              " 114,\n",
              " 96,\n",
              " 98,\n",
              " 98,\n",
              " 97,\n",
              " 145,\n",
              " 143,\n",
              " 140,\n",
              " 143,\n",
              " 107,\n",
              " 66,\n",
              " 112,\n",
              " 99,\n",
              " 68,\n",
              " 97,\n",
              " 74,\n",
              " 42,\n",
              " 27,\n",
              " 25,\n",
              " 29,\n",
              " 41,\n",
              " 72,\n",
              " 137,\n",
              " 127,\n",
              " 82,\n",
              " 62,\n",
              " 58,\n",
              " 38,\n",
              " 52,\n",
              " 40,\n",
              " 24,\n",
              " 38,\n",
              " 42,\n",
              " 37,\n",
              " 49,\n",
              " 48,\n",
              " 68,\n",
              " 83,\n",
              " 93,\n",
              " 91,\n",
              " 91,\n",
              " 70,\n",
              " 51,\n",
              " 47,\n",
              " 49,\n",
              " 69,\n",
              " 111,\n",
              " 86,\n",
              " 92,\n",
              " 105,\n",
              " 98,\n",
              " 99,\n",
              " 98,\n",
              " 146,\n",
              " 143,\n",
              " 140,\n",
              " 145,\n",
              " 109,\n",
              " 72,\n",
              " 150,\n",
              " 143,\n",
              " 78,\n",
              " 65,\n",
              " 48,\n",
              " 50,\n",
              " 41,\n",
              " 33,\n",
              " 37,\n",
              " 56,\n",
              " 78,\n",
              " 126,\n",
              " 126,\n",
              " 88,\n",
              " 79,\n",
              " 92,\n",
              " 69,\n",
              " 90,\n",
              " 86,\n",
              " 57,\n",
              " 85,\n",
              " 78,\n",
              " 76,\n",
              " 88,\n",
              " 88,\n",
              " 100,\n",
              " 102,\n",
              " 98,\n",
              " 93,\n",
              " 87,\n",
              " 80,\n",
              " 69,\n",
              " 63,\n",
              " 82,\n",
              " 112,\n",
              " 72,\n",
              " 27,\n",
              " 54,\n",
              " 111,\n",
              " 97,\n",
              " 100,\n",
              " 98,\n",
              " 145,\n",
              " 143,\n",
              " 142,\n",
              " 140,\n",
              " 147,\n",
              " 122,\n",
              " 109,\n",
              " 122,\n",
              " 60,\n",
              " 26,\n",
              " 33,\n",
              " 23,\n",
              " 32,\n",
              " 75,\n",
              " 66,\n",
              " 83,\n",
              " 95,\n",
              " 124,\n",
              " 124,\n",
              " 98,\n",
              " 85,\n",
              " 92,\n",
              " 104,\n",
              " 98,\n",
              " 88,\n",
              " 87,\n",
              " 85,\n",
              " 93,\n",
              " 101,\n",
              " 107,\n",
              " 119,\n",
              " 118,\n",
              " 110,\n",
              " 100,\n",
              " 88,\n",
              " 80,\n",
              " 78,\n",
              " 76,\n",
              " 68,\n",
              " 88,\n",
              " ...]"
            ]
          },
          "metadata": {
            "tags": []
          },
          "execution_count": 12
        }
      ]
    },
    {
      "cell_type": "code",
      "metadata": {
        "id": "fZK1_VBGIEIO",
        "colab": {
          "base_uri": "https://localhost:8080/",
          "height": 102
        },
        "outputId": "0051c02e-dcdd-4f40-ab77-a0849e861bcf"
      },
      "source": [
        "for i in range(5):\n",
        "  print(i)"
      ],
      "execution_count": null,
      "outputs": [
        {
          "output_type": "stream",
          "text": [
            "0\n",
            "1\n",
            "2\n",
            "3\n",
            "4\n"
          ],
          "name": "stdout"
        }
      ]
    },
    {
      "cell_type": "code",
      "metadata": {
        "id": "kLrzsniFIPn2",
        "colab": {
          "base_uri": "https://localhost:8080/",
          "height": 34
        },
        "outputId": "a9b3c942-27ba-496e-cd61-bc931fd46434"
      },
      "source": [
        "#Integer to Label Mapping\n",
        "label_map = {0:\"ANGRY\",1:\"HAPPY\",2:\"SAD\",3:\"SURPRISE\",4:\"NEUTRAL\"}\n",
        "[label_map[i] for i in label_map.keys()]"
      ],
      "execution_count": null,
      "outputs": [
        {
          "output_type": "execute_result",
          "data": {
            "text/plain": [
              "['ANGRY', 'HAPPY', 'SAD', 'SURPRISE', 'NEUTRAL']"
            ]
          },
          "metadata": {
            "tags": []
          },
          "execution_count": 14
        }
      ]
    },
    {
      "cell_type": "code",
      "metadata": {
        "id": "emNk3kn7-SWh",
        "colab": {
          "base_uri": "https://localhost:8080/",
          "height": 306
        },
        "outputId": "5aa51a35-ad76-4555-b58f-2cae8acad2e5"
      },
      "source": [
        "# generate x labels for our plot\n",
        "emotion_labels = [label_map[i] for i in label_map.keys()]\n",
        "\n",
        "# generate counts for each emotion type\n",
        "emotion_counts = [np.sum(df[\"emotion\"] == i) for i in range(len(label_map))]\n",
        "\n",
        "# generate a bar plot for our emotion labels that has different colors\n",
        "[plt.bar(x = emotion_labels[i], height = emotion_counts[i] ) for i in range(len(emotion_labels))]\n",
        "\n",
        "# make the plot interpretable with x and y labels + title\n",
        "plt.xlabel('EMOTION LABEL')\n",
        "plt.ylabel('N OBSERVSATIONS')\n",
        "plt.title('A balanced distribution of emotions in our data set', y=1.05);"
      ],
      "execution_count": null,
      "outputs": [
        {
          "output_type": "display_data",
          "data": {
            "image/png": "[encoded data removed]",
            "text/plain": [
              "<Figure size 432x288 with 1 Axes>"
            ]
          },
          "metadata": {
            "tags": [],
            "needs_background": "light"
          }
        }
      ]
    },
    {
      "cell_type": "markdown",
      "metadata": {
        "id": "0UPLgR0k-fEJ"
      },
      "source": [
        "###Exercise 2A Balanced vs. Unbalanced Datasets"
      ]
    },
    {
      "cell_type": "markdown",
      "metadata": {
        "id": "CG57yqywq1jW"
      },
      "source": [
        "####What would be the implications of an unbalanced dataset?"
      ]
    },
    {
      "cell_type": "markdown",
      "metadata": {
        "id": "KaqNfQF5Y8iM"
      },
      "source": [
        "### Data Visualization"
      ]
    },
    {
      "cell_type": "markdown",
      "metadata": {
        "id": "1BbN1EO_-VMc"
      },
      "source": [
        "In this section, we will convert the flattened pixel arrays to 2D images, so as to plot facial landmarks over the images"
      ]
    },
    {
      "cell_type": "code",
      "metadata": {
        "id": "25joaxHAQcw2"
      },
      "source": [
        "import os"
      ],
      "execution_count": null,
      "outputs": []
    },
    {
      "cell_type": "code",
      "metadata": {
        "id": "baxrsFUQQeeT",
        "colab": {
          "base_uri": "https://localhost:8080/",
          "height": 119
        },
        "outputId": "7c228d59-9f2b-4aeb-91c4-af76d8d155cc"
      },
      "source": [
        "os.listdir()"
      ],
      "execution_count": null,
      "outputs": [
        {
          "output_type": "execute_result",
          "data": {
            "text/plain": [
              "['.config',\n",
              " 'pureX.npy',\n",
              " 'ferdata.csv',\n",
              " 'dataY.npy',\n",
              " 'dataX.npy',\n",
              " 'sample_data']"
            ]
          },
          "metadata": {
            "tags": []
          },
          "execution_count": 17
        }
      ]
    },
    {
      "cell_type": "code",
      "metadata": {
        "id": "jTkynlyy75cm",
        "cellView": "form"
      },
      "source": [
        "#@title Run this code to setup the extraction of Facial Landmarks\n",
        "\n",
        "# Load's dlib's pretrained face detector model\n",
        "#frontalface_detector = dlib.get_frontal_face_detector()\n",
        "\n",
        "\n",
        "#Load the 68 face Landmark file\n",
        "#predictor = dlib.shape_predictor('./shape_predictor_68_face_landmarks.dat')\n",
        "\"\"\"\n",
        "Returns facial landmarks for the given input image path\n",
        "\"\"\"\n",
        "def get_landmarks(image):\n",
        "\n",
        "\n",
        "  #:type image : cv2 object\n",
        "  #:rtype landmarks : list of tuples where each tuple represents\n",
        "  #                  the x and y co-ordinates of facial keypoints\n",
        "\n",
        "  #Bounding Box co-ordinates around the face(Training data is 48*48(cropped faces))\n",
        "  rects = [dlib.rectangle(left=1, top=1, right=47, bottom=47)]\n",
        "\n",
        "  #Read Image using OpenCV\n",
        "  #image = cv2.imread(image_path)\n",
        "  #Detect the Faces within the image\n",
        "  landmarks = [(p.x, p.y) for p in predictor(image, rects[0]).parts()]\n",
        "  return image,landmarks\n",
        "\n",
        "\"\"\"\n",
        "Display image with its Facial Landmarks\n",
        "\"\"\"\n",
        "def image_landmarks(image,face_landmarks):\n",
        "  \"\"\"\n",
        "  :type image_path : str\n",
        "  :type face_landmarks : list of tuples where each tuple represents\n",
        "                     the x and y co-ordinates of facial keypoints\n",
        "  :rtype : None\n",
        "  \"\"\"\n",
        "  radius = -2\n",
        "  circle_thickness = 1\n",
        "  image_copy = image.copy()\n",
        "  for (x, y) in face_landmarks:\n",
        "    cv2.circle(image_copy, (x, y), circle_thickness, (255,0,0), radius)\n",
        "\n",
        "  plt.imshow(image_copy, interpolation='nearest', cmap='Greys_r')\n",
        "  plt.xticks([]); plt.yticks([])\n",
        "  plt.show()\n",
        "\n",
        "\n",
        "'''\n",
        "Converts pixels values to 2D-image.\n",
        "Displays the image and returns the cv2 image\n",
        "object\n",
        "'''\n",
        "def pixels_image(img_pixels,plt_flag):\n",
        "  \"\"\"\n",
        "  :type image_pixels : str\n",
        "  :type plt_flag : boolean\n",
        "  :rtype image : cv2 object\n",
        "  \"\"\"\n",
        "\n",
        "  width = 48\n",
        "  height = 48\n",
        "\n",
        "  image = np.fromstring(img_pixels, dtype=np.uint8, sep=\" \").reshape((height, width))\n",
        "\n",
        "  if plt_flag:\n",
        "      plt.imshow(image, interpolation='nearest', cmap=\"Greys_r\")\n",
        "      plt.xticks([]); plt.yticks([])\n",
        "      plt.show()\n",
        "\n",
        "\n",
        "  return image\n"
      ],
      "execution_count": null,
      "outputs": []
    },
    {
      "cell_type": "markdown",
      "metadata": {
        "id": "fMrrq0fxlBbN"
      },
      "source": [
        "###Lets visualize our datapoints!!!"
      ]
    },
    {
      "cell_type": "code",
      "metadata": {
        "id": "E6kqtTORlAZ3",
        "colab": {
          "base_uri": "https://localhost:8080/",
          "height": 252
        },
        "outputId": "b7f58286-fdac-42ce-e53f-59478e5aefcd"
      },
      "source": [
        "# select random index\n",
        "i_index = np.random.randint(len(df))\n",
        "\n",
        "# extract pixel values\n",
        "image_pixels = df['pixels'][i_index]\n",
        "\n",
        "# convert pixels to 2D Images\n",
        "image = pixels_image(image_pixels, True)"
      ],
      "execution_count": null,
      "outputs": [
        {
          "output_type": "display_data",
          "data": {
            "image/png": "[encoded data removed]",
            "text/plain": [
              "<Figure size 432x288 with 1 Axes>"
            ]
          },
          "metadata": {
            "tags": []
          }
        }
      ]
    },
    {
      "cell_type": "code",
      "metadata": {
        "id": "IP6ZiSusJEWS",
        "colab": {
          "base_uri": "https://localhost:8080/",
          "height": 252
        },
        "outputId": "24321331-2984-4f7a-bcfc-6f546db89bc3"
      },
      "source": [
        "# select random index\n",
        "i_index = np.random.randint(len(df))\n",
        "\n",
        "# extract pixel values\n",
        "image_pixels = df['pixels'][i_index]\n",
        "\n",
        "# convert pixels to 2D Images\n",
        "image_i = pixels_image(image_pixels, True)"
      ],
      "execution_count": null,
      "outputs": [
        {
          "output_type": "display_data",
          "data": {
            "image/png": "[encoded data removed]",
            "text/plain": [
              "<Figure size 432x288 with 1 Axes>"
            ]
          },
          "metadata": {
            "tags": []
          }
        }
      ]
    },
    {
      "cell_type": "code",
      "metadata": {
        "id": "hdTlMmueJKYl"
      },
      "source": [],
      "execution_count": null,
      "outputs": []
    },
    {
      "cell_type": "code",
      "metadata": {
        "id": "4EtcbUdzJYl5",
        "colab": {
          "base_uri": "https://localhost:8080/",
          "height": 282
        },
        "outputId": "1dd8e4dc-75ec-4c23-b0ac-56bfcc0ef521"
      },
      "source": [
        "plt.plot( image.flatten() )\n",
        "plt.plot( image_i.flatten() )"
      ],
      "execution_count": null,
      "outputs": [
        {
          "output_type": "execute_result",
          "data": {
            "text/plain": [
              "[<matplotlib.lines.Line2D at 0x7f1e2138d6a0>]"
            ]
          },
          "metadata": {
            "tags": []
          },
          "execution_count": 21
        },
        {
          "output_type": "display_data",
          "data": {
            "image/png": "[encoded data removed]",
            "text/plain": [
              "<Figure size 432x288 with 1 Axes>"
            ]
          },
          "metadata": {
            "tags": [],
            "needs_background": "light"
          }
        }
      ]
    },
    {
      "cell_type": "code",
      "metadata": {
        "id": "pnhpmfCoJ7xW"
      },
      "source": [],
      "execution_count": null,
      "outputs": []
    },
    {
      "cell_type": "code",
      "metadata": {
        "id": "JBkoklK5KGJp"
      },
      "source": [],
      "execution_count": null,
      "outputs": []
    },
    {
      "cell_type": "code",
      "metadata": {
        "id": "XrqieEBmKAxg"
      },
      "source": [],
      "execution_count": null,
      "outputs": []
    },
    {
      "cell_type": "code",
      "metadata": {
        "id": "cPXYk-GSJ-dH"
      },
      "source": [],
      "execution_count": null,
      "outputs": []
    },
    {
      "cell_type": "code",
      "metadata": {
        "id": "jWq-f7B-BOjh"
      },
      "source": [
        "#@title Can you get the label for the face above?"
      ],
      "execution_count": null,
      "outputs": []
    },
    {
      "cell_type": "markdown",
      "metadata": {
        "id": "iEKhOBy1-_aB"
      },
      "source": [
        "####Plot Facial Landmarks on the Datapoints"
      ]
    },
    {
      "cell_type": "code",
      "metadata": {
        "id": "LLcpEqE_-w-T"
      },
      "source": [
        "#Extract the Facial Landmarks\n",
        "#image,facial_landmarks = get_landmarks(image)\n",
        "#facial_landmarks = get_landmarks(image,face_rects)\n",
        "#Display the Facial Landmarks on the Image\n",
        "#image_landmarks(image,facial_landmarks)"
      ],
      "execution_count": null,
      "outputs": []
    },
    {
      "cell_type": "code",
      "metadata": {
        "id": "tKTehELYJtrj"
      },
      "source": [],
      "execution_count": null,
      "outputs": []
    },
    {
      "cell_type": "markdown",
      "metadata": {
        "id": "27HUOaMqagU7"
      },
      "source": [
        "###Extract the features and save the data"
      ]
    },
    {
      "cell_type": "markdown",
      "metadata": {
        "id": "uh4mN71xbyvO"
      },
      "source": [
        " We'll need to create X and Y arrays for our model:\n",
        "\n",
        "      X is a list of lists, where each element in X represents a single picture\n",
        "                            where a picture is represented by a list distances\n",
        "                            between facial landmark points\n",
        "\n",
        "      Y is a list of numbers, where each element in Y represents the emotion\n",
        "                              for the corresponding picture\n",
        "\n",
        "      X_pixels is a list of lists, where each element in X represents a single\n",
        "                           picture where a picture is represented by its pixels\n",
        "\n",
        " X and Y must be ordered in the same way so that X[0] and Y[0] refer to the\n",
        " first picture, X[1] and Y[1] refer to the second picture, and so on.\n",
        "\n",
        ""
      ]
    },
    {
      "cell_type": "markdown",
      "metadata": {
        "id": "GiBA4Uz1ZjOb"
      },
      "source": [
        "###Euclidean Distance between Facial Landmarks"
      ]
    },
    {
      "cell_type": "markdown",
      "metadata": {
        "id": "DZkElB0PATtd"
      },
      "source": [
        "####Exercise(Coding)\n",
        "\n",
        "Complete the function below to compute the euclidean distances between all 68 Facial Landmark points, excluding the distances of the points with themselves"
      ]
    },
    {
      "cell_type": "code",
      "metadata": {
        "id": "AblhKSuIZufy"
      },
      "source": [
        "\"\"\"\n",
        "Computes euclidean distance between 68 Landmark Points for our features\n",
        "e_dist is a list of features that will go into our model.\n",
        "Each feature is a distance between two landmark points, and every pair of points\n",
        "must have a feature.\n",
        "Scipy Library has readily available fuction to compute euclidean distance. You can\n",
        "compute the distance using distance.euclidean(point1,point2)\n",
        "point1,point2 :2D points\n",
        "\"\"\"\n",
        "def landmarks_edist(face_landmarks):\n",
        "\n",
        "    e_dist = []\n",
        "    # FILL ME IN!\n",
        "    # Use this to get the distance between two points:\n",
        "    for i in range (len(face_landmarks)):\n",
        "      for j in range (len(face_landmarks)):\n",
        "        e_dist.append(distance.euclidean(face_landmarks[i],face_landmarks[j]))\n",
        "    #               distance.euclidean(face_landmarks[i],face_landmarks[j])\n",
        "    return e_dist"
      ],
      "execution_count": null,
      "outputs": []
    },
    {
      "cell_type": "code",
      "metadata": {
        "id": "Im_3G3gtaqsK",
        "cellView": "form"
      },
      "source": [
        "#@title Function that preprocesses the data to extract distances between all points\n",
        "\n",
        "def preprocess_data(df):\n",
        "\n",
        "  X = []\n",
        "  Y = []\n",
        "  X_pixels = []\n",
        "\n",
        "  n_pixels = 2304\n",
        "\n",
        "  for index, row in (df.iterrows()):\n",
        "\n",
        "      if index%1000 == 0:\n",
        "        print (index, \"Datapoints Processed\")\n",
        "\n",
        "      try:\n",
        "          image = pixels_image(row['pixels'],0)\n",
        "          X_pixels.append(image.ravel())\n",
        "          image = cv2.GaussianBlur(image,(5,5),0)\n",
        "\n",
        "          _,face_landmarks = get_landmarks(image)\n",
        "          X.append(landmarks_edist(face_landmarks)) # Using our feature function!\n",
        "          Y.append(row['emotion'])\n",
        "\n",
        "      except Exception as e:\n",
        "          print (\"An error occured:\",e)\n",
        "\n",
        "  #Save the data\n",
        "  np.save(\"pureX\", X_pixels)\n",
        "  np.save(\"dataX\", X)\n",
        "  np.save(\"dataY\", Y)\n",
        "\n",
        "  return np.array(X_pixels),np.array(X),np.array(Y)"
      ],
      "execution_count": null,
      "outputs": []
    },
    {
      "cell_type": "markdown",
      "metadata": {
        "id": "5tMU3NCZcpcF"
      },
      "source": [
        "###Load the Saved Data"
      ]
    },
    {
      "cell_type": "code",
      "metadata": {
        "id": "cypubed0HIBt"
      },
      "source": [
        "# set to True if we want to preload data -- which has already been generated for us :)\n",
        "preload = True\n",
        "\n",
        "if preload:\n",
        "\n",
        "  # load outputs saved in this folder after running preprocess_data()\n",
        "  dataX = np.load('./dataX.npy')\n",
        "  dataY = np.load('./dataY.npy')\n",
        "\n",
        "else:\n",
        "\n",
        "  # this takes 15-20 minutes to run, but someone has already run it and saved the ouputs in this folder\n",
        "  pureX, dataX, dataY = preprocess_data(df)"
      ],
      "execution_count": null,
      "outputs": []
    },
    {
      "cell_type": "markdown",
      "metadata": {
        "id": "243exuhMd38d"
      },
      "source": [
        "###Split the data\n",
        "\n"
      ]
    },
    {
      "cell_type": "markdown",
      "metadata": {
        "id": "cNWZEOrJDVpF"
      },
      "source": [
        "We split our data into different 'sets' that each will work differently with our machine learning model.\n",
        "\n",
        "Think of our AI as a machine learning 'student'.\n",
        "\n",
        "**Training Set**: Our training set is like a training manual. Our algorithm will read, or 'train', on this over and over again to try and learn its task.\n",
        "\n",
        "**Test Set**: Our test set is like a test. It is testing our model on problems that it has not seen before.\n",
        "\n",
        "We usually have a much larger training manual than our test. Let's see if this is the case with our data!"
      ]
    },
    {
      "cell_type": "code",
      "metadata": {
        "id": "3cAC2tMjwK34"
      },
      "source": [
        "#Split Data into Train, Test (90-10)\n",
        "X_train, X_test, y_train, y_test = train_test_split(dataX, dataY, test_size=0.1, random_state=42,stratify =dataY)"
      ],
      "execution_count": null,
      "outputs": []
    },
    {
      "cell_type": "code",
      "metadata": {
        "id": "XtHs4GkFPNwT"
      },
      "source": [],
      "execution_count": null,
      "outputs": []
    },
    {
      "cell_type": "markdown",
      "metadata": {
        "id": "jFES356Ndp6U"
      },
      "source": [
        "### Instructor-led Discussion: Standardization of Data"
      ]
    },
    {
      "cell_type": "markdown",
      "metadata": {
        "id": "pbtM9MnxBozT"
      },
      "source": [
        "Standardization is the process of putting different variables on the same scale. It is a transformation that centers the data by removing the mean value of each feature and then scale it by dividing (non-constant) features by their standard deviation.\n",
        "\n",
        "After standardizing data the mean will be zero and the standard deviation one.\n",
        "\n",
        "We can use sklearn's inbuilt function which will help us to standardize our train data:\n",
        "* `StandardScaler()`"
      ]
    },
    {
      "cell_type": "code",
      "metadata": {
        "id": "ctD2nHn1wKFA"
      },
      "source": [
        "####Standardize the data####################\n",
        "###Note: Do not use test data to fit your Standardscaler Model\n",
        "scaler = StandardScaler()\n",
        "scaler.fit(X_train)\n",
        "X_train = scaler.transform(X_train)\n",
        "X_test = scaler.transform(X_test)"
      ],
      "execution_count": null,
      "outputs": []
    },
    {
      "cell_type": "code",
      "metadata": {
        "id": "BgzUfFcdPIkr",
        "colab": {
          "base_uri": "https://localhost:8080/",
          "height": 34
        },
        "outputId": "b98c9473-6515-4e2b-a355-a2e9b45997bb"
      },
      "source": [
        "X_train.shape"
      ],
      "execution_count": null,
      "outputs": [
        {
          "output_type": "execute_result",
          "data": {
            "text/plain": [
              "(18000, 4556)"
            ]
          },
          "metadata": {
            "tags": []
          },
          "execution_count": 31
        }
      ]
    },
    {
      "cell_type": "markdown",
      "metadata": {
        "id": "R7GpTLtCUd9c"
      },
      "source": [
        "### Instructor-led Discussion: Dimensionality Reduction"
      ]
    },
    {
      "cell_type": "markdown",
      "metadata": {
        "id": "1ZLbw8c1VRik"
      },
      "source": [
        "Dimensionality reduction helps us find a low-dimensional representation of the data that retains as much information as possible.\n",
        "\n",
        "Principal Component Analysis (PCA) is one such technique.PCA is a technique used to emphasize variation and bring out strong patterns in a dataset.\n",
        "\n"
      ]
    },
    {
      "cell_type": "code",
      "metadata": {
        "id": "cVKY8f_V5_1C",
        "colab": {
          "base_uri": "https://localhost:8080/",
          "height": 232
        },
        "outputId": "cce3e8be-547e-430e-8a9c-e62fce55dbd1"
      },
      "source": [
        "#Reduces features by maintaining 95% variance of the data\n",
        "#After doing PCA on our training data, 4556 Dimensions --->reduced to 20\n",
        "#Note: PCA is trained only on training data\n",
        "pca = PCA(.95)\n",
        "pca.fit(X_train)\n",
        "\n",
        "X_train = pca.transform(X_train)\n",
        "X_test= pca.transform(X_test)"
      ],
      "execution_count": null,
      "outputs": [
        {
          "output_type": "error",
          "ename": "NameError",
          "evalue": "ignored",
          "traceback": [
            "\u001b[0;31m---------------------------------------------------------------------------\u001b[0m",
            "\u001b[0;31mNameError\u001b[0m                                 Traceback (most recent call last)",
            "\u001b[0;32m<ipython-input-5-c155a4cfd8d9>\u001b[0m in \u001b[0;36m<module>\u001b[0;34m()\u001b[0m\n\u001b[1;32m      2\u001b[0m \u001b[0;31m#After doing PCA on our training data, 4556 Dimensions --->reduced to 20\u001b[0m\u001b[0;34m\u001b[0m\u001b[0;34m\u001b[0m\u001b[0;34m\u001b[0m\u001b[0m\n\u001b[1;32m      3\u001b[0m \u001b[0;31m#Note: PCA is trained only on training data\u001b[0m\u001b[0;34m\u001b[0m\u001b[0;34m\u001b[0m\u001b[0;34m\u001b[0m\u001b[0m\n\u001b[0;32m----> 4\u001b[0;31m \u001b[0mpca\u001b[0m \u001b[0;34m=\u001b[0m \u001b[0mPCA\u001b[0m\u001b[0;34m(\u001b[0m\u001b[0;36m.95\u001b[0m\u001b[0;34m)\u001b[0m\u001b[0;34m\u001b[0m\u001b[0;34m\u001b[0m\u001b[0m\n\u001b[0m\u001b[1;32m      5\u001b[0m \u001b[0mpca\u001b[0m\u001b[0;34m.\u001b[0m\u001b[0mfit\u001b[0m\u001b[0;34m(\u001b[0m\u001b[0mX_train\u001b[0m\u001b[0;34m)\u001b[0m\u001b[0;34m\u001b[0m\u001b[0;34m\u001b[0m\u001b[0m\n\u001b[1;32m      6\u001b[0m \u001b[0;34m\u001b[0m\u001b[0m\n",
            "\u001b[0;31mNameError\u001b[0m: name 'PCA' is not defined"
          ]
        }
      ]
    },
    {
      "cell_type": "code",
      "metadata": {
        "id": "t3fh0Q8CPGeJ"
      },
      "source": [
        "X_train.shape"
      ],
      "execution_count": null,
      "outputs": []
    },
    {
      "cell_type": "markdown",
      "metadata": {
        "id": "SV0jORxMH3w1"
      },
      "source": [
        "#Milestone 3 : Applying Machine Learning to Emotion Detection"
      ]
    },
    {
      "cell_type": "markdown",
      "metadata": {
        "id": "rx3TiV9KJSSl"
      },
      "source": [
        "##Activity 3a. Defining our machine learning problem"
      ]
    },
    {
      "cell_type": "markdown",
      "metadata": {
        "id": "mRmAsd_WJX7C"
      },
      "source": [
        "Before we build our model, we have to identify what kind of problem it will solve and what data it's going to use."
      ]
    },
    {
      "cell_type": "markdown",
      "metadata": {
        "id": "xNxpdkT_JZF3"
      },
      "source": [
        "### Instructor-led Discussion: Machine Learning for Emotion Detection?\n"
      ]
    },
    {
      "cell_type": "markdown",
      "metadata": {
        "id": "e6PKSHcpJisw"
      },
      "source": [
        "What WILL our model look like? Remember, in machine learning, we always identify inputs and outputs. Our goal is to predict outputs from inputs with either classification or regression.\n",
        "\n",
        "In classification, our output is a category (like dogs or cats).\n",
        "\n",
        "In regression, our output is a value (like 0, 0.1, 0.3, 100, ...)."
      ]
    },
    {
      "cell_type": "code",
      "metadata": {
        "id": "049tc1P6JslF"
      },
      "source": [
        "#@title How will our model operate? { display-mode: \"form\" }\n",
        "\n",
        "#@markdown What are our inputs?\n",
        "inputs = \"distances between facial landmarks\" #@param [\"images\", \"facial landmarks\", \"distances between facial landmarks\", \"Fill Me In\"]\n",
        "\n",
        "#@markdown What are our outputs?\n",
        "outputs = \"integer encoded emotions\" #@param [\"integer encoded emotions\", \"images\", \"image edges\", \"Fill Me In\"]\n",
        "\n",
        "#@markdown What kind of problem will our AI model solve?\n",
        "problem_type  = \"classification\" #@param [\"classification\", \"regression\",\"Fill Me In\"]\n",
        "\n",
        "\n",
        "if inputs == \"distances between facial landmarks\":\n",
        "  print(\"Yes, our inputs are our distance between facial landmarks!\")\n",
        "else:\n",
        "  print('Not quite our inputs.')\n",
        "\n",
        "if outputs == \"integer encoded emotions\":\n",
        "  print(\"Yes, our outputs are integer encoded emotions!\")\n",
        "else:\n",
        "  print('Not quite our outputs.')\n",
        "\n",
        "if problem_type == \"classification\":\n",
        "  print(\"We are trying to predict labels, therefore this is classification!\")\n",
        "else:\n",
        "  print('Not quite our problem!')"
      ],
      "execution_count": null,
      "outputs": []
    },
    {
      "cell_type": "markdown",
      "metadata": {
        "id": "3ZGgfUZNJyTF"
      },
      "source": [
        "## Activity 3b. Building and evaluating models\n",
        "\n",
        "\n",
        "We've tried a the KNN, Logistic Regression,Decision Tree model last week in sklearn. Establish best baseline acccuracy using either of the models today. Below, we list it with the sample parameters:\n",
        "* `knn = KNeighborsClassifier(n_neighbors = 1)`\n",
        "* `lr = LogisticRegression(solver='lbfgs',multi_class='multinomial')`\n",
        "* `dt = DecisionTreeClassifier(max_depth=1)`\n",
        "\n",
        "\n",
        "\n",
        "\n",
        "Test your models with accuracy_score on the test_data, which can be accessed through the X_test variable\n",
        "\n",
        "Try to build the best model that you can!\n",
        "\n",
        "Human accuracy for the fer2013 dataset is 65% +- 5%. Lets try getting as closer as possible!\n",
        "\n"
      ]
    },
    {
      "cell_type": "markdown",
      "metadata": {
        "id": "DqavAnDpKDqE"
      },
      "source": [
        "### Exercise (Coding)     | Est Time | Within a student group\n"
      ]
    },
    {
      "cell_type": "markdown",
      "metadata": {
        "id": "yOiec1fe4G0t"
      },
      "source": [
        "###Train the model"
      ]
    },
    {
      "cell_type": "code",
      "metadata": {
        "id": "3pCwBkhyKAju"
      },
      "source": [
        "### YOUR CODE BELOW\n",
        "### USE AS MANY CELLS AS YOU WANT!\n",
        "### NAME YOUR MODEL as knn"
      ],
      "execution_count": null,
      "outputs": []
    },
    {
      "cell_type": "code",
      "metadata": {
        "id": "paaaxQ3lkmcV",
        "colab": {
          "base_uri": "https://localhost:8080/",
          "height": 198
        },
        "outputId": "bf193b50-f530-471a-e86a-dd3e5d681c23"
      },
      "source": [
        "knn = KNeighborsClassifier(n_neighbors = 1)\n",
        "lr = LogisticRegression(solver='lbfgs',multi_class='multinomial')\n",
        "dt = DecisionTreeClassifier(max_depth=1)"
      ],
      "execution_count": null,
      "outputs": [
        {
          "output_type": "error",
          "ename": "NameError",
          "evalue": "ignored",
          "traceback": [
            "\u001b[0;31m---------------------------------------------------------------------------\u001b[0m",
            "\u001b[0;31mNameError\u001b[0m                                 Traceback (most recent call last)",
            "\u001b[0;32m<ipython-input-3-27f8966524c5>\u001b[0m in \u001b[0;36m<module>\u001b[0;34m()\u001b[0m\n\u001b[0;32m----> 1\u001b[0;31m \u001b[0mknn\u001b[0m \u001b[0;34m=\u001b[0m \u001b[0mKNeighborsClassifier\u001b[0m\u001b[0;34m(\u001b[0m\u001b[0mn_neighbors\u001b[0m \u001b[0;34m=\u001b[0m \u001b[0;36m1\u001b[0m\u001b[0;34m)\u001b[0m\u001b[0;34m\u001b[0m\u001b[0;34m\u001b[0m\u001b[0m\n\u001b[0m\u001b[1;32m      2\u001b[0m \u001b[0mlr\u001b[0m \u001b[0;34m=\u001b[0m \u001b[0mLogisticRegression\u001b[0m\u001b[0;34m(\u001b[0m\u001b[0msolver\u001b[0m\u001b[0;34m=\u001b[0m\u001b[0;34m'lbfgs'\u001b[0m\u001b[0;34m,\u001b[0m\u001b[0mmulti_class\u001b[0m\u001b[0;34m=\u001b[0m\u001b[0;34m'multinomial'\u001b[0m\u001b[0;34m)\u001b[0m\u001b[0;34m\u001b[0m\u001b[0;34m\u001b[0m\u001b[0m\n\u001b[1;32m      3\u001b[0m \u001b[0mdt\u001b[0m \u001b[0;34m=\u001b[0m \u001b[0mDecisionTreeClassifier\u001b[0m\u001b[0;34m(\u001b[0m\u001b[0mmax_depth\u001b[0m\u001b[0;34m=\u001b[0m\u001b[0;36m1\u001b[0m\u001b[0;34m)\u001b[0m\u001b[0;34m\u001b[0m\u001b[0;34m\u001b[0m\u001b[0m\n",
            "\u001b[0;31mNameError\u001b[0m: name 'KNeighborsClassifier' is not defined"
          ]
        }
      ]
    },
    {
      "cell_type": "markdown",
      "metadata": {
        "id": "OnoF1kjw3wZ1"
      },
      "source": [
        "###Evaluate the model"
      ]
    },
    {
      "cell_type": "code",
      "metadata": {
        "id": "2f8MO1W1sYYV",
        "colab": {
          "base_uri": "https://localhost:8080/",
          "height": 232
        },
        "outputId": "3b2d6f3b-b853-4606-ca12-5886186f2fc6"
      },
      "source": [
        "### YOUR CODE BELOW\n",
        "### USE AS MANY CELLS AS YOU WANT!\n",
        "### PREDICT TEST LABELS AND SAVE THEM AS y_pred\n",
        "\n",
        "dt.fit(X_train, y_train)\n",
        "\n",
        "predictions = knn.predict(X_test)\n",
        "\n",
        "metrics.accuracy_score(y_test, predictions)"
      ],
      "execution_count": null,
      "outputs": [
        {
          "output_type": "error",
          "ename": "NameError",
          "evalue": "ignored",
          "traceback": [
            "\u001b[0;31m---------------------------------------------------------------------------\u001b[0m",
            "\u001b[0;31mNameError\u001b[0m                                 Traceback (most recent call last)",
            "\u001b[0;32m<ipython-input-2-2847db7ccef5>\u001b[0m in \u001b[0;36m<module>\u001b[0;34m()\u001b[0m\n\u001b[1;32m      3\u001b[0m \u001b[0;31m### PREDICT TEST LABELS AND SAVE THEM AS y_pred\u001b[0m\u001b[0;34m\u001b[0m\u001b[0;34m\u001b[0m\u001b[0;34m\u001b[0m\u001b[0m\n\u001b[1;32m      4\u001b[0m \u001b[0;34m\u001b[0m\u001b[0m\n\u001b[0;32m----> 5\u001b[0;31m \u001b[0mlr\u001b[0m\u001b[0;34m.\u001b[0m\u001b[0mfit\u001b[0m\u001b[0;34m(\u001b[0m\u001b[0mX_train\u001b[0m\u001b[0;34m,\u001b[0m \u001b[0my_train\u001b[0m\u001b[0;34m)\u001b[0m\u001b[0;34m\u001b[0m\u001b[0;34m\u001b[0m\u001b[0m\n\u001b[0m\u001b[1;32m      6\u001b[0m \u001b[0;34m\u001b[0m\u001b[0m\n\u001b[1;32m      7\u001b[0m \u001b[0mpredictions\u001b[0m \u001b[0;34m=\u001b[0m \u001b[0mknn\u001b[0m\u001b[0;34m.\u001b[0m\u001b[0mpredict\u001b[0m\u001b[0;34m(\u001b[0m\u001b[0mX_test\u001b[0m\u001b[0;34m)\u001b[0m\u001b[0;34m\u001b[0m\u001b[0;34m\u001b[0m\u001b[0m\n",
            "\u001b[0;31mNameError\u001b[0m: name 'lr' is not defined"
          ]
        }
      ]
    },
    {
      "cell_type": "markdown",
      "metadata": {
        "id": "VJVpZmRSN2lY"
      },
      "source": [
        "###Exercise 3A(Discussion) | Est Time: | Within a student group\n",
        "\n",
        "Discussion over different algorithms used for Emotion Detection!\n",
        "\n"
      ]
    },
    {
      "cell_type": "markdown",
      "metadata": {
        "id": "fVr-933j4LRC"
      },
      "source": [
        "###Plot the Confusion Matrix"
      ]
    },
    {
      "cell_type": "code",
      "metadata": {
        "id": "eN0uVF7cwbGk"
      },
      "source": [
        "'''\n",
        "Plots the confusion Matrix and saves it\n",
        "Pass the true labels and the predicted labels\n",
        "'''\n",
        "def plot_confusion_matrix(y_true,y_predicted):\n",
        "  cm = metrics.confusion_matrix(y_true, y_predicted)\n",
        "  print (\"Plotting the Confusion Matrix\")\n",
        "  labels = list(label_map.values())\n",
        "  df_cm = pd.DataFrame(cm,index = labels,columns = labels)\n",
        "  fig = plt.figure()\n",
        "  res = sns.heatmap(df_cm, annot=True,cmap='Blues', fmt='g')\n",
        "  plt.yticks([0.5,1.5,2.5,3.5,4.5], labels,va='center')\n",
        "  plt.title('Confusion Matrix - TestData')\n",
        "  plt.ylabel('True label')\n",
        "  plt.xlabel('Predicted label')\n",
        "  #plt.savefig(fig_name)\n",
        "  plt.show()\n",
        "  plt.close()\n",
        "\n",
        "\n"
      ],
      "execution_count": null,
      "outputs": []
    },
    {
      "cell_type": "code",
      "metadata": {
        "id": "_7BrfLuF7Q4X"
      },
      "source": [
        "plot_confusion_matrix(y_test,y_predlr)"
      ],
      "execution_count": null,
      "outputs": []
    },
    {
      "cell_type": "markdown",
      "metadata": {
        "id": "7iyM_SREPTbE"
      },
      "source": [
        "####Exercise (Discussion) | Est Time: | Within a student group"
      ]
    },
    {
      "cell_type": "code",
      "metadata": {
        "id": "cVsJs_arPTnR",
        "cellView": "form"
      },
      "source": [
        "#@title Take a look at your confusion Matrix and answer the following questions\n",
        "\n",
        "#@markdown Name most correctly classified emotion?\n",
        "correct_emotion = \"Fill Me In\"#@param [\"Anger\",\"Happy\",\"Sad\",\"Surprise\",\"Fill Me In\"]\n",
        "\n",
        "#@markdown Name most incorrectly classified emotion?\n",
        "incorrect_emotion = \"Fill Me In\"#@param [\"Anger\",\"Happy\",\"Sad\",\"Surprise\",\"Fill Me In\"]\n",
        "\n",
        "#@markdown Sad Emotion is highly misclassified as?\n",
        "sad_misclassify =\"Fill Me In\"#@param [\"Anger\",\"Happy\",\"Sad\",\"Surprise\",\"Fill Me In\"]\n",
        "\n",
        "#@markdown Neutral Emotion is highly misclassified as?\n",
        "neutral_misclassify =\"Fill Me In\"#@param [\"Anger\",\"Happy\",\"Sad\",\"Surprise\",\"Fill Me In\"]\n",
        "\n",
        "\n",
        "#@markdown Angry Emotion is highly misclassified as?\n",
        "angry_misclassify =\"Fill Me In\"#@param [\"Anger\",\"Happy\",\"Sad\",\"Surprise\",\"Fill Me In\"]\n",
        "\n"
      ],
      "execution_count": null,
      "outputs": []
    },
    {
      "cell_type": "markdown",
      "metadata": {
        "id": "g0dNBYIPI2-c"
      },
      "source": [
        "#Milestone 4: Coding Exercise\n",
        "\n"
      ]
    },
    {
      "cell_type": "markdown",
      "metadata": {
        "id": "GolaaB1-tvBC"
      },
      "source": [
        "We performed feature generation and extraction process in the previous sections. Now train your best model from Section 3 again with actual pixels of the images with standardization.\n",
        "\n",
        "####Report and Comment over the result!"
      ]
    },
    {
      "cell_type": "code",
      "metadata": {
        "id": "zqMKoYD0Ib9L"
      },
      "source": [
        "#Load the true pixel data and corresponding labels\n",
        "X = np.load('pureX.npy')\n",
        "#X = X.reshape(len(X),-1)\n",
        "#X = pureX\n",
        "Y = np.load('dataY.npy')"
      ],
      "execution_count": null,
      "outputs": []
    },
    {
      "cell_type": "code",
      "metadata": {
        "id": "WatuJy48Qe__"
      },
      "source": [
        "###YOUR CODE HERE\n"
      ],
      "execution_count": null,
      "outputs": []
    },
    {
      "cell_type": "markdown",
      "metadata": {
        "id": "jTI1-quUzf96"
      },
      "source": [
        "#Finish!"
      ]
    },
    {
      "cell_type": "code",
      "metadata": {
        "id": "lfM0GGKm1FMQ"
      },
      "source": [
        "# extract images as vectors, convert from strings to ints -- this is called a \"list comprihension\"\n",
        "x_image = np.array( [np.fromstring(df['pixels'][i], dtype=np.uint8, sep=\" \") for i in range(len(df))] )\n",
        "\n",
        "# extract labels in the same way--through a list comprehension\n",
        "y_image = np.array( [df['emotion'][i] for i in range(len(df)) ])\n",
        "\n",
        "# generate train-test (90/10) splits\n",
        "X_train, X_test, y_train, y_test = train_test_split(x_image, y_image, test_size=0.1,random_state=42)\n",
        "\n",
        "# define the model\n",
        "knn = KNeighborsClassifier(n_neighbors=10)\n",
        "\n",
        "# train\n",
        "print (\"training knn model ...\")\n",
        "knn.fit(X_train, y_train)\n",
        "\n",
        "# test\n",
        "print (\"Predict for KNN Model\")\n",
        "y_pred_knn = knn.predict(X_test)\n",
        "\n",
        "# display results\n",
        "print (\"KNN Test Accuracy on raw image inputs:\", metrics.accuracy_score(y_test, y_pred_knn))"
      ],
      "execution_count": null,
      "outputs": []
    }
  ]
}